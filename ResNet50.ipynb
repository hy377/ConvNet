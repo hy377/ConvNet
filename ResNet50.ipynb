{
 "cells": [
  {
   "cell_type": "code",
   "execution_count": 1,
   "metadata": {},
   "outputs": [
    {
     "name": "stderr",
     "output_type": "stream",
     "text": [
      "C:\\Users\\qin\\AppData\\Local\\Continuum\\anaconda3\\envs\\TF2.0\\lib\\site-packages\\ipykernel\\parentpoller.py:116: UserWarning: Parent poll failed.  If the frontend dies,\n",
      "                the kernel may be left running.  Please let us know\n",
      "                about your system (bitness, Python, etc.) at\n",
      "                ipython-dev@scipy.org\n",
      "  ipython-dev@scipy.org\"\"\")\n"
     ]
    }
   ],
   "source": [
    "import random\n",
    "import os\n",
    "import glob\n",
    "\n",
    "\n",
    "\n",
    "import cv2\n",
    "import skimage\n",
    "from skimage import transform\n",
    "import numpy as np\n",
    "import pandas as pd\n",
    "import matplotlib.pyplot as plt\n",
    "import SimpleITK as sitk\n",
    "\n",
    "import tensorflow as tf\n",
    "from tensorflow import keras\n",
    "from tensorflow.keras.utils import to_categorical\n",
    "from tensorflow.keras.preprocessing import image"
   ]
  },
  {
   "cell_type": "code",
   "execution_count": 2,
   "metadata": {},
   "outputs": [],
   "source": [
    "PATH = glob.glob('D:\\\\Data\\\\LiuRenYi\\\\ZengHuicode\\\\FFDM_Cut\\\\train\\\\*\\\\*resize.png')\n",
    "data = pd.read_csv('data_info.csv',encoding='gb18030')\n",
    "\n",
    "\n",
    "\n",
    "lr_dict = {'左':'L','右':'R'}\n",
    "\n",
    "ID = []\n",
    "for i in range(len(data['FS'])):\n",
    "    ID.append(data.loc[i,'FS']+' '+lr_dict.get(data.loc[i,'L/R']))\n",
    "\n",
    "label_dict = {'恶性':1,'良性':0}\n",
    "\n",
    "label_dict = {ID[i]:label_dict.get(data.loc[i,'label']) for i in range(len(ID))} \n",
    "\n",
    "\n",
    "PATH[0].split('\\\\')[-2]"
   ]
  },
  {
   "cell_type": "code",
   "execution_count": 3,
   "metadata": {},
   "outputs": [
    {
     "data": {
      "text/plain": [
       "'rx001110 L'"
      ]
     },
     "execution_count": 3,
     "metadata": {},
     "output_type": "execute_result"
    }
   ],
   "source": [
    "PATH[0].split('\\\\')[-2]"
   ]
  },
  {
   "cell_type": "code",
   "execution_count": 4,
   "metadata": {},
   "outputs": [],
   "source": [
    "data = pd.read_csv('data_info.csv',encoding='gb18030')\n",
    "\n",
    "lr_dict = {'左':'L','右':'R'}\n",
    "\n",
    "ID = []\n",
    "for i in range(len(data['FS'])):\n",
    "    ID.append(data.loc[i,'FS']+' '+lr_dict.get(data.loc[i,'L/R']))\n",
    "\n",
    "label_dict = {'恶性':1,'良性':0}\n",
    "\n",
    "label_dict = {ID[i]:label_dict.get(data.loc[i,'label']) for i in range(len(ID))} "
   ]
  },
  {
   "cell_type": "code",
   "execution_count": 2,
   "metadata": {},
   "outputs": [],
   "source": [
    "def load_dcm_and_label(path,label_dict):\n",
    "    imagelist = []\n",
    "    labellist = []\n",
    "    for p in path:\n",
    "        image = sitk.ReadImage(p)\n",
    "        image = sitk.GetArrayFromImage(image)\n",
    "        if image.shape != (1,3328,2560):\n",
    "            image = transform.resize(image,(1,3328,2560))\n",
    "        label = label_dict.get(p.split('\\\\')[-2])\n",
    "        image = 2*(image-image.min())/(image.max()-image.min()) -1\n",
    "        imagelist.append(image)\n",
    "        labellist.append(label)\n",
    "    imagelist = np.concatenate(imagelist)\n",
    "    return imagelist , labellist"
   ]
  },
  {
   "cell_type": "code",
   "execution_count": 40,
   "metadata": {},
   "outputs": [],
   "source": [
    "def image_augment(img,label):\n",
    "    img = tf.expand_dims(img,2)\n",
    "    img = tf.image.resize(img,(int(3328*0.7),int(2560*0.7)))\n",
    "#     img = tf.image.random_flip_left_right(img)\n",
    "#     img = tf.image.random_flip_up_down(img)\n",
    "    return img,label"
   ]
  },
  {
   "cell_type": "code",
   "execution_count": 7,
   "metadata": {},
   "outputs": [],
   "source": [
    "# data_image,data_label = load_dcm_and_label(PATH,label_dict)"
   ]
  },
  {
   "cell_type": "code",
   "execution_count": 8,
   "metadata": {},
   "outputs": [],
   "source": [
    "# labelpd = pd.DataFrame({'label':data_label})\n",
    "# labelpd.to_csv('dcm1_label.csv')"
   ]
  },
  {
   "cell_type": "code",
   "execution_count": 9,
   "metadata": {},
   "outputs": [],
   "source": [
    "# np.save('dcm1_data.npy',data_image)"
   ]
  },
  {
   "cell_type": "code",
   "execution_count": 10,
   "metadata": {},
   "outputs": [],
   "source": [
    "data_label = pd.read_csv('dcm1_label.csv',index_col=0)\n",
    "data_label = data_label.values"
   ]
  },
  {
   "cell_type": "code",
   "execution_count": 11,
   "metadata": {},
   "outputs": [],
   "source": [
    "data_image = np.load('dcm1_data.npy')"
   ]
  },
  {
   "cell_type": "code",
   "execution_count": 12,
   "metadata": {},
   "outputs": [
    {
     "data": {
      "text/plain": [
       "(275, 3328, 2560)"
      ]
     },
     "execution_count": 12,
     "metadata": {},
     "output_type": "execute_result"
    }
   ],
   "source": [
    "data_image.shape"
   ]
  },
  {
   "cell_type": "code",
   "execution_count": 41,
   "metadata": {},
   "outputs": [],
   "source": [
    "dataset = tf.data.Dataset.from_tensor_slices((data_image,data_label))"
   ]
  },
  {
   "cell_type": "code",
   "execution_count": 42,
   "metadata": {},
   "outputs": [],
   "source": [
    "dataset = dataset.map(image_augment)"
   ]
  },
  {
   "cell_type": "code",
   "execution_count": 43,
   "metadata": {},
   "outputs": [],
   "source": [
    "image_num = data_image.shape[0]\n",
    "train_num = int(image_num*0.8)\n",
    "batch_size = 1\n",
    "\n",
    "\n",
    "trainset = dataset.take(train_num)\n",
    "testset = dataset.skip(train_num)"
   ]
  },
  {
   "cell_type": "code",
   "execution_count": 44,
   "metadata": {},
   "outputs": [],
   "source": [
    "trainset = trainset.shuffle(train_num).batch(batch_size).repeat()"
   ]
  },
  {
   "cell_type": "code",
   "execution_count": 45,
   "metadata": {},
   "outputs": [],
   "source": [
    "testset = testset.batch(batch_size).repeat()"
   ]
  },
  {
   "cell_type": "code",
   "execution_count": 46,
   "metadata": {},
   "outputs": [],
   "source": [
    "IMG_SHAPE = (int(3328*0.7),int(2560*0.7), 1)\n",
    "# Create the base model from the model \n",
    "base_model = keras.applications.ResNet50(input_shape=IMG_SHAPE,\n",
    "                                               include_top=False,\n",
    "                                               weights=None\n",
    "                                           )"
   ]
  },
  {
   "cell_type": "code",
   "execution_count": 47,
   "metadata": {},
   "outputs": [],
   "source": [
    "base_model.trainable = True"
   ]
  },
  {
   "cell_type": "code",
   "execution_count": 48,
   "metadata": {},
   "outputs": [],
   "source": [
    "x = base_model.output\n",
    "x = keras.layers.GlobalAveragePooling2D()(x)\n",
    "predictions = keras.layers.Dense(2, activation='softmax')(x)\n",
    "model = keras.Model(inputs=base_model.inputs, outputs=predictions)"
   ]
  },
  {
   "cell_type": "code",
   "execution_count": 49,
   "metadata": {},
   "outputs": [],
   "source": [
    "model.compile(optimizer=tf.keras.optimizers.Nadam(lr=2e-4),\n",
    "              loss='binary_crossentropy',\n",
    "              metrics=['accuracy'])"
   ]
  },
  {
   "cell_type": "code",
   "execution_count": 50,
   "metadata": {},
   "outputs": [],
   "source": [
    "model_checkpoint = keras.callbacks.ModelCheckpoint('DeepBSI-restnet-gen02.hdf5', \n",
    "                                                   monitor='val_acc', \n",
    "                                                   verbose=1, \n",
    "                                                   save_best_only=True, \n",
    "                                                   mode=\"max\")"
   ]
  },
  {
   "cell_type": "code",
   "execution_count": 51,
   "metadata": {},
   "outputs": [
    {
     "name": "stdout",
     "output_type": "stream",
     "text": [
      "Train for 220 steps, validate for 55 steps\n",
      "Epoch 1/1000\n",
      "  2/220 [..............................] - ETA: 3:08:40 - loss: 0.7685 - accuracy: 0.5000WARNING:tensorflow:Can save best model only with val_acc available, skipping.\n"
     ]
    },
    {
     "ename": "ResourceExhaustedError",
     "evalue": " OOM when allocating tensor with shape[1,73,56,2048] and type float on /job:localhost/replica:0/task:0/device:GPU:0 by allocator GPU_0_bfc\n\t [[{{node model_2/conv5_block3_out/Relu-0-0-TransposeNCHWToNHWC-LayoutOptimizer}}]]\nHint: If you want to see a list of allocated tensors when OOM happens, add report_tensor_allocations_upon_oom to RunOptions for current allocation info.\n [Op:__inference_distributed_function_139628]\n\nFunction call stack:\ndistributed_function\n",
     "output_type": "error",
     "traceback": [
      "\u001b[1;31m---------------------------------------------------------------------------\u001b[0m",
      "\u001b[1;31mResourceExhaustedError\u001b[0m                    Traceback (most recent call last)",
      "\u001b[1;32m<ipython-input-51-0b5ab9b78411>\u001b[0m in \u001b[0;36m<module>\u001b[1;34m\u001b[0m\n\u001b[0;32m      9\u001b[0m                     \u001b[0mvalidation_data\u001b[0m\u001b[1;33m=\u001b[0m\u001b[0mtestset\u001b[0m\u001b[1;33m,\u001b[0m\u001b[1;33m\u001b[0m\u001b[1;33m\u001b[0m\u001b[0m\n\u001b[0;32m     10\u001b[0m                     \u001b[0mvalidation_steps\u001b[0m\u001b[1;33m=\u001b[0m\u001b[0mvalidation_steps\u001b[0m\u001b[1;33m,\u001b[0m\u001b[1;33m\u001b[0m\u001b[1;33m\u001b[0m\u001b[0m\n\u001b[1;32m---> 11\u001b[1;33m                     callbacks = [model_checkpoint])\n\u001b[0m",
      "\u001b[1;32m~\\AppData\\Local\\Continuum\\anaconda3\\envs\\TF2.0\\lib\\site-packages\\tensorflow_core\\python\\keras\\engine\\training.py\u001b[0m in \u001b[0;36mfit\u001b[1;34m(self, x, y, batch_size, epochs, verbose, callbacks, validation_split, validation_data, shuffle, class_weight, sample_weight, initial_epoch, steps_per_epoch, validation_steps, validation_freq, max_queue_size, workers, use_multiprocessing, **kwargs)\u001b[0m\n\u001b[0;32m    726\u001b[0m         \u001b[0mmax_queue_size\u001b[0m\u001b[1;33m=\u001b[0m\u001b[0mmax_queue_size\u001b[0m\u001b[1;33m,\u001b[0m\u001b[1;33m\u001b[0m\u001b[1;33m\u001b[0m\u001b[0m\n\u001b[0;32m    727\u001b[0m         \u001b[0mworkers\u001b[0m\u001b[1;33m=\u001b[0m\u001b[0mworkers\u001b[0m\u001b[1;33m,\u001b[0m\u001b[1;33m\u001b[0m\u001b[1;33m\u001b[0m\u001b[0m\n\u001b[1;32m--> 728\u001b[1;33m         use_multiprocessing=use_multiprocessing)\n\u001b[0m\u001b[0;32m    729\u001b[0m \u001b[1;33m\u001b[0m\u001b[0m\n\u001b[0;32m    730\u001b[0m   def evaluate(self,\n",
      "\u001b[1;32m~\\AppData\\Local\\Continuum\\anaconda3\\envs\\TF2.0\\lib\\site-packages\\tensorflow_core\\python\\keras\\engine\\training_v2.py\u001b[0m in \u001b[0;36mfit\u001b[1;34m(self, model, x, y, batch_size, epochs, verbose, callbacks, validation_split, validation_data, shuffle, class_weight, sample_weight, initial_epoch, steps_per_epoch, validation_steps, validation_freq, **kwargs)\u001b[0m\n\u001b[0;32m    322\u001b[0m                 \u001b[0mmode\u001b[0m\u001b[1;33m=\u001b[0m\u001b[0mModeKeys\u001b[0m\u001b[1;33m.\u001b[0m\u001b[0mTRAIN\u001b[0m\u001b[1;33m,\u001b[0m\u001b[1;33m\u001b[0m\u001b[1;33m\u001b[0m\u001b[0m\n\u001b[0;32m    323\u001b[0m                 \u001b[0mtraining_context\u001b[0m\u001b[1;33m=\u001b[0m\u001b[0mtraining_context\u001b[0m\u001b[1;33m,\u001b[0m\u001b[1;33m\u001b[0m\u001b[1;33m\u001b[0m\u001b[0m\n\u001b[1;32m--> 324\u001b[1;33m                 total_epochs=epochs)\n\u001b[0m\u001b[0;32m    325\u001b[0m             \u001b[0mcbks\u001b[0m\u001b[1;33m.\u001b[0m\u001b[0mmake_logs\u001b[0m\u001b[1;33m(\u001b[0m\u001b[0mmodel\u001b[0m\u001b[1;33m,\u001b[0m \u001b[0mepoch_logs\u001b[0m\u001b[1;33m,\u001b[0m \u001b[0mtraining_result\u001b[0m\u001b[1;33m,\u001b[0m \u001b[0mModeKeys\u001b[0m\u001b[1;33m.\u001b[0m\u001b[0mTRAIN\u001b[0m\u001b[1;33m)\u001b[0m\u001b[1;33m\u001b[0m\u001b[1;33m\u001b[0m\u001b[0m\n\u001b[0;32m    326\u001b[0m \u001b[1;33m\u001b[0m\u001b[0m\n",
      "\u001b[1;32m~\\AppData\\Local\\Continuum\\anaconda3\\envs\\TF2.0\\lib\\site-packages\\tensorflow_core\\python\\keras\\engine\\training_v2.py\u001b[0m in \u001b[0;36mrun_one_epoch\u001b[1;34m(model, iterator, execution_function, dataset_size, batch_size, strategy, steps_per_epoch, num_samples, mode, training_context, total_epochs)\u001b[0m\n\u001b[0;32m    121\u001b[0m         step=step, mode=mode, size=current_batch_size) as batch_logs:\n\u001b[0;32m    122\u001b[0m       \u001b[1;32mtry\u001b[0m\u001b[1;33m:\u001b[0m\u001b[1;33m\u001b[0m\u001b[1;33m\u001b[0m\u001b[0m\n\u001b[1;32m--> 123\u001b[1;33m         \u001b[0mbatch_outs\u001b[0m \u001b[1;33m=\u001b[0m \u001b[0mexecution_function\u001b[0m\u001b[1;33m(\u001b[0m\u001b[0miterator\u001b[0m\u001b[1;33m)\u001b[0m\u001b[1;33m\u001b[0m\u001b[1;33m\u001b[0m\u001b[0m\n\u001b[0m\u001b[0;32m    124\u001b[0m       \u001b[1;32mexcept\u001b[0m \u001b[1;33m(\u001b[0m\u001b[0mStopIteration\u001b[0m\u001b[1;33m,\u001b[0m \u001b[0merrors\u001b[0m\u001b[1;33m.\u001b[0m\u001b[0mOutOfRangeError\u001b[0m\u001b[1;33m)\u001b[0m\u001b[1;33m:\u001b[0m\u001b[1;33m\u001b[0m\u001b[1;33m\u001b[0m\u001b[0m\n\u001b[0;32m    125\u001b[0m         \u001b[1;31m# TODO(kaftan): File bug about tf function and errors.OutOfRangeError?\u001b[0m\u001b[1;33m\u001b[0m\u001b[1;33m\u001b[0m\u001b[1;33m\u001b[0m\u001b[0m\n",
      "\u001b[1;32m~\\AppData\\Local\\Continuum\\anaconda3\\envs\\TF2.0\\lib\\site-packages\\tensorflow_core\\python\\keras\\engine\\training_v2_utils.py\u001b[0m in \u001b[0;36mexecution_function\u001b[1;34m(input_fn)\u001b[0m\n\u001b[0;32m     84\u001b[0m     \u001b[1;31m# `numpy` translates Tensors to values in Eager mode.\u001b[0m\u001b[1;33m\u001b[0m\u001b[1;33m\u001b[0m\u001b[1;33m\u001b[0m\u001b[0m\n\u001b[0;32m     85\u001b[0m     return nest.map_structure(_non_none_constant_value,\n\u001b[1;32m---> 86\u001b[1;33m                               distributed_function(input_fn))\n\u001b[0m\u001b[0;32m     87\u001b[0m \u001b[1;33m\u001b[0m\u001b[0m\n\u001b[0;32m     88\u001b[0m   \u001b[1;32mreturn\u001b[0m \u001b[0mexecution_function\u001b[0m\u001b[1;33m\u001b[0m\u001b[1;33m\u001b[0m\u001b[0m\n",
      "\u001b[1;32m~\\AppData\\Local\\Continuum\\anaconda3\\envs\\TF2.0\\lib\\site-packages\\tensorflow_core\\python\\eager\\def_function.py\u001b[0m in \u001b[0;36m__call__\u001b[1;34m(self, *args, **kwds)\u001b[0m\n\u001b[0;32m    455\u001b[0m \u001b[1;33m\u001b[0m\u001b[0m\n\u001b[0;32m    456\u001b[0m     \u001b[0mtracing_count\u001b[0m \u001b[1;33m=\u001b[0m \u001b[0mself\u001b[0m\u001b[1;33m.\u001b[0m\u001b[0m_get_tracing_count\u001b[0m\u001b[1;33m(\u001b[0m\u001b[1;33m)\u001b[0m\u001b[1;33m\u001b[0m\u001b[1;33m\u001b[0m\u001b[0m\n\u001b[1;32m--> 457\u001b[1;33m     \u001b[0mresult\u001b[0m \u001b[1;33m=\u001b[0m \u001b[0mself\u001b[0m\u001b[1;33m.\u001b[0m\u001b[0m_call\u001b[0m\u001b[1;33m(\u001b[0m\u001b[1;33m*\u001b[0m\u001b[0margs\u001b[0m\u001b[1;33m,\u001b[0m \u001b[1;33m**\u001b[0m\u001b[0mkwds\u001b[0m\u001b[1;33m)\u001b[0m\u001b[1;33m\u001b[0m\u001b[1;33m\u001b[0m\u001b[0m\n\u001b[0m\u001b[0;32m    458\u001b[0m     \u001b[1;32mif\u001b[0m \u001b[0mtracing_count\u001b[0m \u001b[1;33m==\u001b[0m \u001b[0mself\u001b[0m\u001b[1;33m.\u001b[0m\u001b[0m_get_tracing_count\u001b[0m\u001b[1;33m(\u001b[0m\u001b[1;33m)\u001b[0m\u001b[1;33m:\u001b[0m\u001b[1;33m\u001b[0m\u001b[1;33m\u001b[0m\u001b[0m\n\u001b[0;32m    459\u001b[0m       \u001b[0mself\u001b[0m\u001b[1;33m.\u001b[0m\u001b[0m_call_counter\u001b[0m\u001b[1;33m.\u001b[0m\u001b[0mcalled_without_tracing\u001b[0m\u001b[1;33m(\u001b[0m\u001b[1;33m)\u001b[0m\u001b[1;33m\u001b[0m\u001b[1;33m\u001b[0m\u001b[0m\n",
      "\u001b[1;32m~\\AppData\\Local\\Continuum\\anaconda3\\envs\\TF2.0\\lib\\site-packages\\tensorflow_core\\python\\eager\\def_function.py\u001b[0m in \u001b[0;36m_call\u001b[1;34m(self, *args, **kwds)\u001b[0m\n\u001b[0;32m    485\u001b[0m       \u001b[1;31m# In this case we have created variables on the first call, so we run the\u001b[0m\u001b[1;33m\u001b[0m\u001b[1;33m\u001b[0m\u001b[1;33m\u001b[0m\u001b[0m\n\u001b[0;32m    486\u001b[0m       \u001b[1;31m# defunned version which is guaranteed to never create variables.\u001b[0m\u001b[1;33m\u001b[0m\u001b[1;33m\u001b[0m\u001b[1;33m\u001b[0m\u001b[0m\n\u001b[1;32m--> 487\u001b[1;33m       \u001b[1;32mreturn\u001b[0m \u001b[0mself\u001b[0m\u001b[1;33m.\u001b[0m\u001b[0m_stateless_fn\u001b[0m\u001b[1;33m(\u001b[0m\u001b[1;33m*\u001b[0m\u001b[0margs\u001b[0m\u001b[1;33m,\u001b[0m \u001b[1;33m**\u001b[0m\u001b[0mkwds\u001b[0m\u001b[1;33m)\u001b[0m  \u001b[1;31m# pylint: disable=not-callable\u001b[0m\u001b[1;33m\u001b[0m\u001b[1;33m\u001b[0m\u001b[0m\n\u001b[0m\u001b[0;32m    488\u001b[0m     \u001b[1;32melif\u001b[0m \u001b[0mself\u001b[0m\u001b[1;33m.\u001b[0m\u001b[0m_stateful_fn\u001b[0m \u001b[1;32mis\u001b[0m \u001b[1;32mnot\u001b[0m \u001b[1;32mNone\u001b[0m\u001b[1;33m:\u001b[0m\u001b[1;33m\u001b[0m\u001b[1;33m\u001b[0m\u001b[0m\n\u001b[0;32m    489\u001b[0m       \u001b[1;31m# Release the lock early so that multiple threads can perform the call\u001b[0m\u001b[1;33m\u001b[0m\u001b[1;33m\u001b[0m\u001b[1;33m\u001b[0m\u001b[0m\n",
      "\u001b[1;32m~\\AppData\\Local\\Continuum\\anaconda3\\envs\\TF2.0\\lib\\site-packages\\tensorflow_core\\python\\eager\\function.py\u001b[0m in \u001b[0;36m__call__\u001b[1;34m(self, *args, **kwargs)\u001b[0m\n\u001b[0;32m   1821\u001b[0m     \u001b[1;34m\"\"\"Calls a graph function specialized to the inputs.\"\"\"\u001b[0m\u001b[1;33m\u001b[0m\u001b[1;33m\u001b[0m\u001b[0m\n\u001b[0;32m   1822\u001b[0m     \u001b[0mgraph_function\u001b[0m\u001b[1;33m,\u001b[0m \u001b[0margs\u001b[0m\u001b[1;33m,\u001b[0m \u001b[0mkwargs\u001b[0m \u001b[1;33m=\u001b[0m \u001b[0mself\u001b[0m\u001b[1;33m.\u001b[0m\u001b[0m_maybe_define_function\u001b[0m\u001b[1;33m(\u001b[0m\u001b[0margs\u001b[0m\u001b[1;33m,\u001b[0m \u001b[0mkwargs\u001b[0m\u001b[1;33m)\u001b[0m\u001b[1;33m\u001b[0m\u001b[1;33m\u001b[0m\u001b[0m\n\u001b[1;32m-> 1823\u001b[1;33m     \u001b[1;32mreturn\u001b[0m \u001b[0mgraph_function\u001b[0m\u001b[1;33m.\u001b[0m\u001b[0m_filtered_call\u001b[0m\u001b[1;33m(\u001b[0m\u001b[0margs\u001b[0m\u001b[1;33m,\u001b[0m \u001b[0mkwargs\u001b[0m\u001b[1;33m)\u001b[0m  \u001b[1;31m# pylint: disable=protected-access\u001b[0m\u001b[1;33m\u001b[0m\u001b[1;33m\u001b[0m\u001b[0m\n\u001b[0m\u001b[0;32m   1824\u001b[0m \u001b[1;33m\u001b[0m\u001b[0m\n\u001b[0;32m   1825\u001b[0m   \u001b[1;33m@\u001b[0m\u001b[0mproperty\u001b[0m\u001b[1;33m\u001b[0m\u001b[1;33m\u001b[0m\u001b[0m\n",
      "\u001b[1;32m~\\AppData\\Local\\Continuum\\anaconda3\\envs\\TF2.0\\lib\\site-packages\\tensorflow_core\\python\\eager\\function.py\u001b[0m in \u001b[0;36m_filtered_call\u001b[1;34m(self, args, kwargs)\u001b[0m\n\u001b[0;32m   1139\u001b[0m          if isinstance(t, (ops.Tensor,\n\u001b[0;32m   1140\u001b[0m                            resource_variable_ops.BaseResourceVariable))),\n\u001b[1;32m-> 1141\u001b[1;33m         self.captured_inputs)\n\u001b[0m\u001b[0;32m   1142\u001b[0m \u001b[1;33m\u001b[0m\u001b[0m\n\u001b[0;32m   1143\u001b[0m   \u001b[1;32mdef\u001b[0m \u001b[0m_call_flat\u001b[0m\u001b[1;33m(\u001b[0m\u001b[0mself\u001b[0m\u001b[1;33m,\u001b[0m \u001b[0margs\u001b[0m\u001b[1;33m,\u001b[0m \u001b[0mcaptured_inputs\u001b[0m\u001b[1;33m,\u001b[0m \u001b[0mcancellation_manager\u001b[0m\u001b[1;33m=\u001b[0m\u001b[1;32mNone\u001b[0m\u001b[1;33m)\u001b[0m\u001b[1;33m:\u001b[0m\u001b[1;33m\u001b[0m\u001b[1;33m\u001b[0m\u001b[0m\n",
      "\u001b[1;32m~\\AppData\\Local\\Continuum\\anaconda3\\envs\\TF2.0\\lib\\site-packages\\tensorflow_core\\python\\eager\\function.py\u001b[0m in \u001b[0;36m_call_flat\u001b[1;34m(self, args, captured_inputs, cancellation_manager)\u001b[0m\n\u001b[0;32m   1222\u001b[0m     \u001b[1;32mif\u001b[0m \u001b[0mexecuting_eagerly\u001b[0m\u001b[1;33m:\u001b[0m\u001b[1;33m\u001b[0m\u001b[1;33m\u001b[0m\u001b[0m\n\u001b[0;32m   1223\u001b[0m       flat_outputs = forward_function.call(\n\u001b[1;32m-> 1224\u001b[1;33m           ctx, args, cancellation_manager=cancellation_manager)\n\u001b[0m\u001b[0;32m   1225\u001b[0m     \u001b[1;32melse\u001b[0m\u001b[1;33m:\u001b[0m\u001b[1;33m\u001b[0m\u001b[1;33m\u001b[0m\u001b[0m\n\u001b[0;32m   1226\u001b[0m       \u001b[0mgradient_name\u001b[0m \u001b[1;33m=\u001b[0m \u001b[0mself\u001b[0m\u001b[1;33m.\u001b[0m\u001b[0m_delayed_rewrite_functions\u001b[0m\u001b[1;33m.\u001b[0m\u001b[0mregister\u001b[0m\u001b[1;33m(\u001b[0m\u001b[1;33m)\u001b[0m\u001b[1;33m\u001b[0m\u001b[1;33m\u001b[0m\u001b[0m\n",
      "\u001b[1;32m~\\AppData\\Local\\Continuum\\anaconda3\\envs\\TF2.0\\lib\\site-packages\\tensorflow_core\\python\\eager\\function.py\u001b[0m in \u001b[0;36mcall\u001b[1;34m(self, ctx, args, cancellation_manager)\u001b[0m\n\u001b[0;32m    509\u001b[0m               \u001b[0minputs\u001b[0m\u001b[1;33m=\u001b[0m\u001b[0margs\u001b[0m\u001b[1;33m,\u001b[0m\u001b[1;33m\u001b[0m\u001b[1;33m\u001b[0m\u001b[0m\n\u001b[0;32m    510\u001b[0m               \u001b[0mattrs\u001b[0m\u001b[1;33m=\u001b[0m\u001b[1;33m(\u001b[0m\u001b[1;34m\"executor_type\"\u001b[0m\u001b[1;33m,\u001b[0m \u001b[0mexecutor_type\u001b[0m\u001b[1;33m,\u001b[0m \u001b[1;34m\"config_proto\"\u001b[0m\u001b[1;33m,\u001b[0m \u001b[0mconfig\u001b[0m\u001b[1;33m)\u001b[0m\u001b[1;33m,\u001b[0m\u001b[1;33m\u001b[0m\u001b[1;33m\u001b[0m\u001b[0m\n\u001b[1;32m--> 511\u001b[1;33m               ctx=ctx)\n\u001b[0m\u001b[0;32m    512\u001b[0m         \u001b[1;32melse\u001b[0m\u001b[1;33m:\u001b[0m\u001b[1;33m\u001b[0m\u001b[1;33m\u001b[0m\u001b[0m\n\u001b[0;32m    513\u001b[0m           outputs = execute.execute_with_cancellation(\n",
      "\u001b[1;32m~\\AppData\\Local\\Continuum\\anaconda3\\envs\\TF2.0\\lib\\site-packages\\tensorflow_core\\python\\eager\\execute.py\u001b[0m in \u001b[0;36mquick_execute\u001b[1;34m(op_name, num_outputs, inputs, attrs, ctx, name)\u001b[0m\n\u001b[0;32m     65\u001b[0m     \u001b[1;32melse\u001b[0m\u001b[1;33m:\u001b[0m\u001b[1;33m\u001b[0m\u001b[1;33m\u001b[0m\u001b[0m\n\u001b[0;32m     66\u001b[0m       \u001b[0mmessage\u001b[0m \u001b[1;33m=\u001b[0m \u001b[0me\u001b[0m\u001b[1;33m.\u001b[0m\u001b[0mmessage\u001b[0m\u001b[1;33m\u001b[0m\u001b[1;33m\u001b[0m\u001b[0m\n\u001b[1;32m---> 67\u001b[1;33m     \u001b[0msix\u001b[0m\u001b[1;33m.\u001b[0m\u001b[0mraise_from\u001b[0m\u001b[1;33m(\u001b[0m\u001b[0mcore\u001b[0m\u001b[1;33m.\u001b[0m\u001b[0m_status_to_exception\u001b[0m\u001b[1;33m(\u001b[0m\u001b[0me\u001b[0m\u001b[1;33m.\u001b[0m\u001b[0mcode\u001b[0m\u001b[1;33m,\u001b[0m \u001b[0mmessage\u001b[0m\u001b[1;33m)\u001b[0m\u001b[1;33m,\u001b[0m \u001b[1;32mNone\u001b[0m\u001b[1;33m)\u001b[0m\u001b[1;33m\u001b[0m\u001b[1;33m\u001b[0m\u001b[0m\n\u001b[0m\u001b[0;32m     68\u001b[0m   \u001b[1;32mexcept\u001b[0m \u001b[0mTypeError\u001b[0m \u001b[1;32mas\u001b[0m \u001b[0me\u001b[0m\u001b[1;33m:\u001b[0m\u001b[1;33m\u001b[0m\u001b[1;33m\u001b[0m\u001b[0m\n\u001b[0;32m     69\u001b[0m     keras_symbolic_tensors = [\n",
      "\u001b[1;32m~\\AppData\\Local\\Continuum\\anaconda3\\envs\\TF2.0\\lib\\site-packages\\six.py\u001b[0m in \u001b[0;36mraise_from\u001b[1;34m(value, from_value)\u001b[0m\n",
      "\u001b[1;31mResourceExhaustedError\u001b[0m:  OOM when allocating tensor with shape[1,73,56,2048] and type float on /job:localhost/replica:0/task:0/device:GPU:0 by allocator GPU_0_bfc\n\t [[{{node model_2/conv5_block3_out/Relu-0-0-TransposeNCHWToNHWC-LayoutOptimizer}}]]\nHint: If you want to see a list of allocated tensors when OOM happens, add report_tensor_allocations_upon_oom to RunOptions for current allocation info.\n [Op:__inference_distributed_function_139628]\n\nFunction call stack:\ndistributed_function\n"
     ]
    }
   ],
   "source": [
    "epochs = 1000\n",
    "steps_per_epoch = train_num // batch_size\n",
    "validation_steps = (image_num-train_num)// batch_size\n",
    "\n",
    "history = model.fit(trainset,\n",
    "                    steps_per_epoch = steps_per_epoch,\n",
    "                    epochs=epochs,\n",
    "#                     workers=4,\n",
    "                    validation_data=testset,\n",
    "                    validation_steps=validation_steps,\n",
    "                    callbacks = [model_checkpoint])"
   ]
  },
  {
   "cell_type": "code",
   "execution_count": null,
   "metadata": {},
   "outputs": [],
   "source": [
    "model.summary()"
   ]
  },
  {
   "cell_type": "code",
   "execution_count": null,
   "metadata": {},
   "outputs": [],
   "source": []
  },
  {
   "cell_type": "code",
   "execution_count": null,
   "metadata": {},
   "outputs": [],
   "source": []
  },
  {
   "cell_type": "code",
   "execution_count": null,
   "metadata": {},
   "outputs": [],
   "source": []
  },
  {
   "cell_type": "code",
   "execution_count": null,
   "metadata": {},
   "outputs": [],
   "source": []
  },
  {
   "cell_type": "markdown",
   "metadata": {},
   "source": [
    "Resize"
   ]
  },
  {
   "cell_type": "code",
   "execution_count": 2,
   "metadata": {},
   "outputs": [
    {
     "data": {
      "text/plain": [
       "'rx001110 L'"
      ]
     },
     "execution_count": 2,
     "metadata": {},
     "output_type": "execute_result"
    }
   ],
   "source": [
    "PATH = glob.glob('D:\\\\Data\\\\LiuRenYi\\\\ZengHuicode\\\\FFDM_Cut\\\\train\\\\*\\\\*resize.png')\n",
    "data = pd.read_csv('data_info.csv',encoding='gb18030')\n",
    "\n",
    "\n",
    "\n",
    "lr_dict = {'左':'L','右':'R'}\n",
    "\n",
    "ID = []\n",
    "for i in range(len(data['FS'])):\n",
    "    ID.append(data.loc[i,'FS']+' '+lr_dict.get(data.loc[i,'L/R']))\n",
    "\n",
    "label_dict = {'恶性':1,'良性':0}\n",
    "\n",
    "label_dict = {ID[i]:label_dict.get(data.loc[i,'label']) for i in range(len(ID))} \n",
    "\n",
    "\n",
    "PATH[0].split('\\\\')[-2]"
   ]
  },
  {
   "cell_type": "code",
   "execution_count": 3,
   "metadata": {},
   "outputs": [],
   "source": [
    "def load_label(PATH):\n",
    "    LABEL = []\n",
    "    for path in PATH:\n",
    "        label = label_dict.get(path.split('\\\\')[-2])\n",
    "        LABEL.append(label)\n",
    "    return LABEL"
   ]
  },
  {
   "cell_type": "code",
   "execution_count": 4,
   "metadata": {},
   "outputs": [],
   "source": [
    "def load_png_label(path,label):\n",
    "    img = tf.io.read_file(path)\n",
    "    img = tf.image.decode_png(img,channels=3)\n",
    "    img = img[:,300:1500]\n",
    "    img = tf.image.resize(img,[1200,1200])\n",
    "    img = tf.cast(img,tf.float32)\n",
    "    img = img/255\n",
    "    label = tf.reshape(label,[1])\n",
    "    return img,label"
   ]
  },
  {
   "cell_type": "code",
   "execution_count": 5,
   "metadata": {},
   "outputs": [],
   "source": [
    "Label = load_label(PATH)"
   ]
  },
  {
   "cell_type": "code",
   "execution_count": 6,
   "metadata": {},
   "outputs": [],
   "source": [
    "train_set = tf.data.Dataset.from_tensor_slices((PATH,Label))"
   ]
  },
  {
   "cell_type": "code",
   "execution_count": 7,
   "metadata": {},
   "outputs": [],
   "source": [
    "train_set = train_set.map(load_png_label)"
   ]
  },
  {
   "cell_type": "code",
   "execution_count": 8,
   "metadata": {},
   "outputs": [
    {
     "data": {
      "text/plain": [
       "<MapDataset shapes: ((1200, 1200, 3), (1,)), types: (tf.float32, tf.int32)>"
      ]
     },
     "execution_count": 8,
     "metadata": {},
     "output_type": "execute_result"
    }
   ],
   "source": [
    "train_set"
   ]
  },
  {
   "cell_type": "code",
   "execution_count": 9,
   "metadata": {},
   "outputs": [
    {
     "name": "stdout",
     "output_type": "stream",
     "text": [
      "(1200, 1200, 3)\n"
     ]
    },
    {
     "data": {
      "image/png": "[encoded data removed]",
      "text/plain": [
       "<Figure size 432x288 with 1 Axes>"
      ]
     },
     "metadata": {
      "needs_background": "light"
     },
     "output_type": "display_data"
    }
   ],
   "source": [
    "for i,j in train_set.take(1):\n",
    "    print(i.shape)\n",
    "    plt.figure()\n",
    "    plt.imshow(i)\n",
    "    plt.show()"
   ]
  },
  {
   "cell_type": "code",
   "execution_count": 10,
   "metadata": {},
   "outputs": [],
   "source": [
    "batch_size = 2\n",
    "train_set = train_set.shuffle(528).repeat().batch(batch_size)"
   ]
  },
  {
   "cell_type": "code",
   "execution_count": 11,
   "metadata": {},
   "outputs": [
    {
     "data": {
      "text/plain": [
       "<BatchDataset shapes: ((None, 1200, 1200, 3), (None, 1)), types: (tf.float32, tf.int32)>"
      ]
     },
     "execution_count": 11,
     "metadata": {},
     "output_type": "execute_result"
    }
   ],
   "source": [
    "train_set"
   ]
  },
  {
   "cell_type": "code",
   "execution_count": 12,
   "metadata": {},
   "outputs": [],
   "source": [
    "val_PATH = glob.glob('D:\\\\Data\\\\LiuRenYi\\\\ZengHuicode\\\\FFDM_Cut\\\\val\\\\*\\\\*resize.png')\n",
    "val_Label = load_label(val_PATH)\n",
    "val_set =  tf.data.Dataset.from_tensor_slices((val_PATH,val_Label))\n",
    "val_set = val_set.map(load_png_label)\n",
    "val_set = val_set.repeat().batch(batch_size)"
   ]
  },
  {
   "cell_type": "code",
   "execution_count": null,
   "metadata": {},
   "outputs": [
    {
     "name": "stdout",
     "output_type": "stream",
     "text": [
      "Train for 264 steps, validate for 31 steps\n",
      "Epoch 1/5000\n",
      "263/264 [============================>.] - ETA: 0s - loss: 0.7163 - accuracy: 0.5000WARNING:tensorflow:Can save best model only with val_acc available, skipping.\n",
      "264/264 [==============================] - 144s 545ms/step - loss: 0.7162 - accuracy: 0.5000 - val_loss: 0.6931 - val_accuracy: 0.5000\n",
      "Epoch 2/5000\n",
      "263/264 [============================>.] - ETA: 0s - loss: 0.6933 - accuracy: 0.5000WARNING:tensorflow:Can save best model only with val_acc available, skipping.\n",
      "264/264 [==============================] - 130s 493ms/step - loss: 0.6933 - accuracy: 0.5000 - val_loss: 0.6931 - val_accuracy: 0.5000\n",
      "Epoch 3/5000\n",
      "263/264 [============================>.] - ETA: 0s - loss: 0.6935 - accuracy: 0.5000WARNING:tensorflow:Can save best model only with val_acc available, skipping.\n",
      "264/264 [==============================] - 130s 493ms/step - loss: 0.6935 - accuracy: 0.5000 - val_loss: 0.6932 - val_accuracy: 0.5000\n",
      "Epoch 4/5000\n",
      "263/264 [============================>.] - ETA: 0s - loss: 0.6932 - accuracy: 0.5000WARNING:tensorflow:Can save best model only with val_acc available, skipping.\n",
      "264/264 [==============================] - 135s 512ms/step - loss: 0.6932 - accuracy: 0.5000 - val_loss: 0.6931 - val_accuracy: 0.5000\n",
      "Epoch 5/5000\n",
      "263/264 [============================>.] - ETA: 0s - loss: 0.6933 - accuracy: 0.5000WARNING:tensorflow:Can save best model only with val_acc available, skipping.\n",
      "264/264 [==============================] - 133s 506ms/step - loss: 0.6933 - accuracy: 0.5000 - val_loss: 0.7046 - val_accuracy: 0.5000\n",
      "Epoch 6/5000\n",
      "263/264 [============================>.] - ETA: 0s - loss: 0.6933 - accuracy: 0.5000WARNING:tensorflow:Can save best model only with val_acc available, skipping.\n",
      "264/264 [==============================] - 131s 497ms/step - loss: 0.6933 - accuracy: 0.5000 - val_loss: 1.6773 - val_accuracy: 0.5000\n",
      "Epoch 7/5000\n",
      "263/264 [============================>.] - ETA: 0s - loss: 0.6932 - accuracy: 0.5000WARNING:tensorflow:Can save best model only with val_acc available, skipping.\n",
      "264/264 [==============================] - 131s 495ms/step - loss: 0.6932 - accuracy: 0.5000 - val_loss: 0.7708 - val_accuracy: 0.5000\n",
      "Epoch 8/5000\n",
      "263/264 [============================>.] - ETA: 0s - loss: 0.6932 - accuracy: 0.5000WARNING:tensorflow:Can save best model only with val_acc available, skipping.\n",
      "264/264 [==============================] - 131s 496ms/step - loss: 0.6932 - accuracy: 0.5000 - val_loss: 0.6932 - val_accuracy: 0.5000\n",
      "Epoch 9/5000\n",
      "263/264 [============================>.] - ETA: 0s - loss: 0.6932 - accuracy: 0.5000WARNING:tensorflow:Can save best model only with val_acc available, skipping.\n",
      "264/264 [==============================] - 131s 498ms/step - loss: 0.6932 - accuracy: 0.5000 - val_loss: 0.6931 - val_accuracy: 0.5000\n",
      "Epoch 10/5000\n",
      "263/264 [============================>.] - ETA: 0s - loss: 0.6932 - accuracy: 0.5000WARNING:tensorflow:Can save best model only with val_acc available, skipping.\n",
      "264/264 [==============================] - 131s 497ms/step - loss: 0.6932 - accuracy: 0.5000 - val_loss: 0.6931 - val_accuracy: 0.5000\n",
      "Epoch 11/5000\n",
      "263/264 [============================>.] - ETA: 0s - loss: 0.6933 - accuracy: 0.5000WARNING:tensorflow:Can save best model only with val_acc available, skipping.\n",
      "264/264 [==============================] - 131s 496ms/step - loss: 0.6933 - accuracy: 0.5000 - val_loss: 7.5258 - val_accuracy: 0.5000\n",
      "Epoch 12/5000\n",
      "263/264 [============================>.] - ETA: 0s - loss: 0.6934 - accuracy: 0.5000WARNING:tensorflow:Can save best model only with val_acc available, skipping.\n",
      "264/264 [==============================] - 131s 496ms/step - loss: 0.6934 - accuracy: 0.5000 - val_loss: 0.6931 - val_accuracy: 0.5000\n",
      "Epoch 13/5000\n",
      "263/264 [============================>.] - ETA: 0s - loss: 0.6932 - accuracy: 0.5000WARNING:tensorflow:Can save best model only with val_acc available, skipping.\n",
      "264/264 [==============================] - 131s 496ms/step - loss: 0.6932 - accuracy: 0.5000 - val_loss: 0.6937 - val_accuracy: 0.5000\n",
      "Epoch 14/5000\n",
      "263/264 [============================>.] - ETA: 0s - loss: 0.6932 - accuracy: 0.5000WARNING:tensorflow:Can save best model only with val_acc available, skipping.\n",
      "264/264 [==============================] - 131s 496ms/step - loss: 0.6932 - accuracy: 0.5000 - val_loss: 0.6945 - val_accuracy: 0.5000\n",
      "Epoch 15/5000\n",
      "263/264 [============================>.] - ETA: 0s - loss: 0.6932 - accuracy: 0.5000WARNING:tensorflow:Can save best model only with val_acc available, skipping.\n",
      "264/264 [==============================] - 131s 495ms/step - loss: 0.6932 - accuracy: 0.5000 - val_loss: 0.6948 - val_accuracy: 0.5000\n",
      "Epoch 16/5000\n",
      "263/264 [============================>.] - ETA: 0s - loss: 0.6931 - accuracy: 0.5000WARNING:tensorflow:Can save best model only with val_acc available, skipping.\n",
      "264/264 [==============================] - 131s 497ms/step - loss: 0.6931 - accuracy: 0.5000 - val_loss: 0.6932 - val_accuracy: 0.5000\n",
      "Epoch 17/5000\n",
      "263/264 [============================>.] - ETA: 0s - loss: 0.6931 - accuracy: 0.5000WARNING:tensorflow:Can save best model only with val_acc available, skipping.\n",
      "264/264 [==============================] - 131s 497ms/step - loss: 0.6931 - accuracy: 0.5000 - val_loss: 0.6932 - val_accuracy: 0.5000\n",
      "Epoch 18/5000\n",
      "263/264 [============================>.] - ETA: 0s - loss: 0.6931 - accuracy: 0.5000WARNING:tensorflow:Can save best model only with val_acc available, skipping.\n",
      "264/264 [==============================] - 131s 497ms/step - loss: 0.6931 - accuracy: 0.5000 - val_loss: 0.6953 - val_accuracy: 0.5000\n",
      "Epoch 19/5000\n",
      "263/264 [============================>.] - ETA: 0s - loss: 0.6932 - accuracy: 0.5000WARNING:tensorflow:Can save best model only with val_acc available, skipping.\n",
      "264/264 [==============================] - 131s 497ms/step - loss: 0.6932 - accuracy: 0.5000 - val_loss: 6.9532 - val_accuracy: 0.5000\n",
      "Epoch 20/5000\n",
      "263/264 [============================>.] - ETA: 0s - loss: 0.6932 - accuracy: 0.5000WARNING:tensorflow:Can save best model only with val_acc available, skipping.\n",
      "264/264 [==============================] - 131s 498ms/step - loss: 0.6932 - accuracy: 0.5000 - val_loss: 0.6932 - val_accuracy: 0.5000\n",
      "Epoch 21/5000\n",
      "263/264 [============================>.] - ETA: 0s - loss: 0.6932 - accuracy: 0.5000WARNING:tensorflow:Can save best model only with val_acc available, skipping.\n",
      "264/264 [==============================] - 132s 500ms/step - loss: 0.6932 - accuracy: 0.5000 - val_loss: 0.7265 - val_accuracy: 0.5000\n",
      "Epoch 22/5000\n",
      "263/264 [============================>.] - ETA: 0s - loss: 0.6932 - accuracy: 0.5000WARNING:tensorflow:Can save best model only with val_acc available, skipping.\n",
      "264/264 [==============================] - 132s 499ms/step - loss: 0.6932 - accuracy: 0.5000 - val_loss: 0.6932 - val_accuracy: 0.5000\n",
      "Epoch 23/5000\n",
      "263/264 [============================>.] - ETA: 0s - loss: 0.6932 - accuracy: 0.5000WARNING:tensorflow:Can save best model only with val_acc available, skipping.\n",
      "264/264 [==============================] - 132s 498ms/step - loss: 0.6932 - accuracy: 0.5000 - val_loss: 0.6931 - val_accuracy: 0.5000\n",
      "Epoch 24/5000\n",
      "263/264 [============================>.] - ETA: 0s - loss: 0.6931 - accuracy: 0.5000WARNING:tensorflow:Can save best model only with val_acc available, skipping.\n",
      "264/264 [==============================] - 131s 496ms/step - loss: 0.6931 - accuracy: 0.5000 - val_loss: 0.6931 - val_accuracy: 0.5000\n",
      "Epoch 25/5000\n",
      "263/264 [============================>.] - ETA: 0s - loss: 0.6931 - accuracy: 0.5000WARNING:tensorflow:Can save best model only with val_acc available, skipping.\n",
      "264/264 [==============================] - 131s 496ms/step - loss: 0.6931 - accuracy: 0.5000 - val_loss: 0.6932 - val_accuracy: 0.5000\n",
      "Epoch 26/5000\n",
      "263/264 [============================>.] - ETA: 0s - loss: 0.6931 - accuracy: 0.5000WARNING:tensorflow:Can save best model only with val_acc available, skipping.\n",
      "264/264 [==============================] - 131s 496ms/step - loss: 0.6931 - accuracy: 0.5000 - val_loss: 0.6932 - val_accuracy: 0.5000\n",
      "Epoch 27/5000\n",
      "263/264 [============================>.] - ETA: 0s - loss: 0.6932 - accuracy: 0.5000WARNING:tensorflow:Can save best model only with val_acc available, skipping.\n",
      "264/264 [==============================] - 131s 496ms/step - loss: 0.6932 - accuracy: 0.5000 - val_loss: 0.9707 - val_accuracy: 0.5000\n",
      "Epoch 28/5000\n",
      "263/264 [============================>.] - ETA: 0s - loss: 0.6932 - accuracy: 0.5000WARNING:tensorflow:Can save best model only with val_acc available, skipping.\n",
      "264/264 [==============================] - 131s 495ms/step - loss: 0.6932 - accuracy: 0.5000 - val_loss: 0.6932 - val_accuracy: 0.5000\n",
      "Epoch 29/5000\n",
      "263/264 [============================>.] - ETA: 0s - loss: 0.6933 - accuracy: 0.5000WARNING:tensorflow:Can save best model only with val_acc available, skipping.\n",
      "264/264 [==============================] - 131s 496ms/step - loss: 0.6933 - accuracy: 0.5000 - val_loss: 1.1360 - val_accuracy: 0.5000\n",
      "Epoch 30/5000\n",
      "263/264 [============================>.] - ETA: 0s - loss: 0.6932 - accuracy: 0.5000WARNING:tensorflow:Can save best model only with val_acc available, skipping.\n",
      "264/264 [==============================] - 131s 496ms/step - loss: 0.6932 - accuracy: 0.5000 - val_loss: 0.6933 - val_accuracy: 0.5000\n",
      "Epoch 31/5000\n",
      "263/264 [============================>.] - ETA: 0s - loss: 0.6931 - accuracy: 0.5000WARNING:tensorflow:Can save best model only with val_acc available, skipping.\n",
      "264/264 [==============================] - 131s 496ms/step - loss: 0.6931 - accuracy: 0.5000 - val_loss: 0.6931 - val_accuracy: 0.5000\n",
      "Epoch 32/5000\n",
      "263/264 [============================>.] - ETA: 0s - loss: 0.6932 - accuracy: 0.5000WARNING:tensorflow:Can save best model only with val_acc available, skipping.\n",
      "264/264 [==============================] - 131s 495ms/step - loss: 0.6932 - accuracy: 0.5000 - val_loss: 0.6932 - val_accuracy: 0.5000\n",
      "Epoch 33/5000\n",
      "263/264 [============================>.] - ETA: 0s - loss: 0.6931 - accuracy: 0.5000WARNING:tensorflow:Can save best model only with val_acc available, skipping.\n",
      "264/264 [==============================] - 131s 497ms/step - loss: 0.6931 - accuracy: 0.5000 - val_loss: 0.6932 - val_accuracy: 0.5000\n",
      "Epoch 34/5000\n",
      "263/264 [============================>.] - ETA: 0s - loss: 0.6931 - accuracy: 0.5000WARNING:tensorflow:Can save best model only with val_acc available, skipping.\n",
      "264/264 [==============================] - 131s 495ms/step - loss: 0.6931 - accuracy: 0.5000 - val_loss: 0.6932 - val_accuracy: 0.5000\n",
      "Epoch 35/5000\n",
      "263/264 [============================>.] - ETA: 0s - loss: 0.6931 - accuracy: 0.5010WARNING:tensorflow:Can save best model only with val_acc available, skipping.\n",
      "264/264 [==============================] - 131s 496ms/step - loss: 0.6931 - accuracy: 0.5009 - val_loss: 0.6931 - val_accuracy: 0.5000\n",
      "Epoch 36/5000\n",
      "263/264 [============================>.] - ETA: 0s - loss: 0.6931 - accuracy: 0.5010WARNING:tensorflow:Can save best model only with val_acc available, skipping.\n",
      "264/264 [==============================] - 131s 497ms/step - loss: 0.6931 - accuracy: 0.5009 - val_loss: 0.6931 - val_accuracy: 0.5000\n",
      "Epoch 37/5000\n",
      "263/264 [============================>.] - ETA: 0s - loss: 0.6932 - accuracy: 0.5000WARNING:tensorflow:Can save best model only with val_acc available, skipping.\n",
      "264/264 [==============================] - 131s 495ms/step - loss: 0.6932 - accuracy: 0.5000 - val_loss: 0.9829 - val_accuracy: 0.5000\n",
      "Epoch 38/5000\n",
      "263/264 [============================>.] - ETA: 0s - loss: 0.6932 - accuracy: 0.5000WARNING:tensorflow:Can save best model only with val_acc available, skipping.\n",
      "264/264 [==============================] - 131s 495ms/step - loss: 0.6932 - accuracy: 0.5000 - val_loss: 0.6931 - val_accuracy: 0.5000\n",
      "Epoch 39/5000\n",
      "263/264 [============================>.] - ETA: 0s - loss: 0.6931 - accuracy: 0.5000WARNING:tensorflow:Can save best model only with val_acc available, skipping.\n",
      "264/264 [==============================] - 130s 494ms/step - loss: 0.6931 - accuracy: 0.5000 - val_loss: 0.6931 - val_accuracy: 0.5000\n",
      "Epoch 40/5000\n",
      "263/264 [============================>.] - ETA: 0s - loss: 0.6931 - accuracy: 0.5000WARNING:tensorflow:Can save best model only with val_acc available, skipping.\n",
      "264/264 [==============================] - 131s 496ms/step - loss: 0.6931 - accuracy: 0.5000 - val_loss: 0.6931 - val_accuracy: 0.5000\n",
      "Epoch 41/5000\n",
      "263/264 [============================>.] - ETA: 0s - loss: 0.6931 - accuracy: 0.5000WARNING:tensorflow:Can save best model only with val_acc available, skipping.\n",
      "264/264 [==============================] - 131s 497ms/step - loss: 0.6931 - accuracy: 0.5000 - val_loss: 0.6931 - val_accuracy: 0.5000\n",
      "Epoch 42/5000\n",
      "263/264 [============================>.] - ETA: 0s - loss: 0.6931 - accuracy: 0.5000WARNING:tensorflow:Can save best model only with val_acc available, skipping.\n",
      "264/264 [==============================] - 131s 496ms/step - loss: 0.6931 - accuracy: 0.5000 - val_loss: 0.6931 - val_accuracy: 0.5000\n",
      "Epoch 43/5000\n",
      "263/264 [============================>.] - ETA: 0s - loss: 0.6932 - accuracy: 0.5000WARNING:tensorflow:Can save best model only with val_acc available, skipping.\n",
      "264/264 [==============================] - 131s 496ms/step - loss: 0.6932 - accuracy: 0.5000 - val_loss: 0.9332 - val_accuracy: 0.5000\n",
      "Epoch 44/5000\n",
      "263/264 [============================>.] - ETA: 0s - loss: 0.6932 - accuracy: 0.5000WARNING:tensorflow:Can save best model only with val_acc available, skipping.\n",
      "264/264 [==============================] - 131s 497ms/step - loss: 0.6932 - accuracy: 0.5000 - val_loss: 0.6931 - val_accuracy: 0.5000\n",
      "Epoch 45/5000\n",
      "263/264 [============================>.] - ETA: 0s - loss: 0.6932 - accuracy: 0.5000WARNING:tensorflow:Can save best model only with val_acc available, skipping.\n",
      "264/264 [==============================] - 131s 496ms/step - loss: 0.6932 - accuracy: 0.5000 - val_loss: 0.6932 - val_accuracy: 0.5000\n",
      "Epoch 46/5000\n",
      "263/264 [============================>.] - ETA: 0s - loss: 0.6932 - accuracy: 0.5000WARNING:tensorflow:Can save best model only with val_acc available, skipping.\n",
      "264/264 [==============================] - 132s 499ms/step - loss: 0.6932 - accuracy: 0.5000 - val_loss: 0.6932 - val_accuracy: 0.5000\n",
      "Epoch 47/5000\n",
      "263/264 [============================>.] - ETA: 0s - loss: 0.6931 - accuracy: 0.5000WARNING:tensorflow:Can save best model only with val_acc available, skipping.\n",
      "264/264 [==============================] - 131s 497ms/step - loss: 0.6931 - accuracy: 0.5000 - val_loss: 0.6931 - val_accuracy: 0.5000\n",
      "Epoch 48/5000\n",
      "263/264 [============================>.] - ETA: 0s - loss: 0.6931 - accuracy: 0.5000WARNING:tensorflow:Can save best model only with val_acc available, skipping.\n",
      "264/264 [==============================] - 131s 496ms/step - loss: 0.6931 - accuracy: 0.5000 - val_loss: 0.6931 - val_accuracy: 0.5000\n",
      "Epoch 49/5000\n",
      "263/264 [============================>.] - ETA: 0s - loss: 0.6931 - accuracy: 0.5000WARNING:tensorflow:Can save best model only with val_acc available, skipping.\n",
      "264/264 [==============================] - 131s 497ms/step - loss: 0.6931 - accuracy: 0.5000 - val_loss: 0.6931 - val_accuracy: 0.5000\n",
      "Epoch 50/5000\n",
      "263/264 [============================>.] - ETA: 0s - loss: 0.6931 - accuracy: 0.5000WARNING:tensorflow:Can save best model only with val_acc available, skipping.\n",
      "264/264 [==============================] - 131s 498ms/step - loss: 0.6931 - accuracy: 0.5000 - val_loss: 0.6931 - val_accuracy: 0.5000\n",
      "Epoch 51/5000\n",
      "263/264 [============================>.] - ETA: 0s - loss: 0.6931 - accuracy: 0.5000WARNING:tensorflow:Can save best model only with val_acc available, skipping.\n",
      "264/264 [==============================] - 131s 496ms/step - loss: 0.6931 - accuracy: 0.5000 - val_loss: 0.6931 - val_accuracy: 0.5000\n",
      "Epoch 52/5000\n",
      "263/264 [============================>.] - ETA: 0s - loss: 0.6931 - accuracy: 0.5000WARNING:tensorflow:Can save best model only with val_acc available, skipping.\n",
      "264/264 [==============================] - 131s 496ms/step - loss: 0.6931 - accuracy: 0.5000 - val_loss: 0.6931 - val_accuracy: 0.5000\n",
      "Epoch 53/5000\n",
      "263/264 [============================>.] - ETA: 0s - loss: 0.6931 - accuracy: 0.5000WARNING:tensorflow:Can save best model only with val_acc available, skipping.\n"
     ]
    },
    {
     "name": "stdout",
     "output_type": "stream",
     "text": [
      "264/264 [==============================] - 131s 497ms/step - loss: 0.6931 - accuracy: 0.5000 - val_loss: 0.6931 - val_accuracy: 0.5000\n",
      "Epoch 54/5000\n",
      "263/264 [============================>.] - ETA: 0s - loss: 0.6931 - accuracy: 0.5000WARNING:tensorflow:Can save best model only with val_acc available, skipping.\n",
      "264/264 [==============================] - 131s 497ms/step - loss: 0.6931 - accuracy: 0.5000 - val_loss: 0.6931 - val_accuracy: 0.5000\n",
      "Epoch 55/5000\n",
      "263/264 [============================>.] - ETA: 0s - loss: 0.6931 - accuracy: 0.5000WARNING:tensorflow:Can save best model only with val_acc available, skipping.\n",
      "264/264 [==============================] - 131s 497ms/step - loss: 0.6931 - accuracy: 0.5000 - val_loss: 0.6931 - val_accuracy: 0.5000\n",
      "Epoch 56/5000\n",
      "263/264 [============================>.] - ETA: 0s - loss: 0.6931 - accuracy: 0.5000WARNING:tensorflow:Can save best model only with val_acc available, skipping.\n",
      "264/264 [==============================] - 132s 499ms/step - loss: 0.6931 - accuracy: 0.5000 - val_loss: 0.6931 - val_accuracy: 0.5000\n",
      "Epoch 57/5000\n",
      "263/264 [============================>.] - ETA: 0s - loss: 0.6931 - accuracy: 0.5000WARNING:tensorflow:Can save best model only with val_acc available, skipping.\n",
      "264/264 [==============================] - 131s 498ms/step - loss: 0.6931 - accuracy: 0.5000 - val_loss: 0.6931 - val_accuracy: 0.5000\n",
      "Epoch 58/5000\n",
      "263/264 [============================>.] - ETA: 0s - loss: 0.6931 - accuracy: 0.5000WARNING:tensorflow:Can save best model only with val_acc available, skipping.\n",
      "264/264 [==============================] - 131s 496ms/step - loss: 0.6931 - accuracy: 0.5000 - val_loss: 0.6931 - val_accuracy: 0.5000\n",
      "Epoch 59/5000\n",
      "263/264 [============================>.] - ETA: 0s - loss: 0.6931 - accuracy: 0.5000WARNING:tensorflow:Can save best model only with val_acc available, skipping.\n",
      "264/264 [==============================] - 131s 495ms/step - loss: 0.6931 - accuracy: 0.5000 - val_loss: 0.6931 - val_accuracy: 0.5000\n",
      "Epoch 60/5000\n",
      "263/264 [============================>.] - ETA: 0s - loss: 0.6931 - accuracy: 0.5000WARNING:tensorflow:Can save best model only with val_acc available, skipping.\n",
      "264/264 [==============================] - 131s 497ms/step - loss: 0.6931 - accuracy: 0.5000 - val_loss: 0.6931 - val_accuracy: 0.5000\n",
      "Epoch 61/5000\n",
      "263/264 [============================>.] - ETA: 0s - loss: 0.6931 - accuracy: 0.5000WARNING:tensorflow:Can save best model only with val_acc available, skipping.\n",
      "264/264 [==============================] - 131s 496ms/step - loss: 0.6931 - accuracy: 0.5000 - val_loss: 0.6931 - val_accuracy: 0.5000\n",
      "Epoch 62/5000\n",
      "263/264 [============================>.] - ETA: 0s - loss: 0.6931 - accuracy: 0.5000WARNING:tensorflow:Can save best model only with val_acc available, skipping.\n",
      "264/264 [==============================] - 131s 498ms/step - loss: 0.6931 - accuracy: 0.5000 - val_loss: 0.6931 - val_accuracy: 0.5000\n",
      "Epoch 63/5000\n",
      "263/264 [============================>.] - ETA: 0s - loss: 0.6931 - accuracy: 0.5000WARNING:tensorflow:Can save best model only with val_acc available, skipping.\n",
      "264/264 [==============================] - 131s 496ms/step - loss: 0.6931 - accuracy: 0.5000 - val_loss: 0.6931 - val_accuracy: 0.5000\n",
      "Epoch 64/5000\n",
      "263/264 [============================>.] - ETA: 0s - loss: 0.6931 - accuracy: 0.5000WARNING:tensorflow:Can save best model only with val_acc available, skipping.\n",
      "264/264 [==============================] - 131s 496ms/step - loss: 0.6931 - accuracy: 0.5000 - val_loss: 0.6931 - val_accuracy: 0.5000\n",
      "Epoch 65/5000\n",
      "263/264 [============================>.] - ETA: 0s - loss: 0.6931 - accuracy: 0.5000WARNING:tensorflow:Can save best model only with val_acc available, skipping.\n",
      "264/264 [==============================] - 131s 496ms/step - loss: 0.6931 - accuracy: 0.5000 - val_loss: 0.6931 - val_accuracy: 0.5000\n",
      "Epoch 66/5000\n",
      "263/264 [============================>.] - ETA: 0s - loss: 0.6931 - accuracy: 0.5000WARNING:tensorflow:Can save best model only with val_acc available, skipping.\n",
      "264/264 [==============================] - 131s 495ms/step - loss: 0.6931 - accuracy: 0.5000 - val_loss: 0.7018 - val_accuracy: 0.5000\n",
      "Epoch 67/5000\n",
      "263/264 [============================>.] - ETA: 0s - loss: 0.6932 - accuracy: 0.5010WARNING:tensorflow:Can save best model only with val_acc available, skipping.\n",
      "264/264 [==============================] - 131s 494ms/step - loss: 0.6932 - accuracy: 0.5009 - val_loss: 0.6931 - val_accuracy: 0.5000\n",
      "Epoch 68/5000\n",
      "263/264 [============================>.] - ETA: 0s - loss: 0.6931 - accuracy: 0.5000WARNING:tensorflow:Can save best model only with val_acc available, skipping.\n",
      "264/264 [==============================] - 131s 495ms/step - loss: 0.6931 - accuracy: 0.5000 - val_loss: 0.6931 - val_accuracy: 0.5000\n",
      "Epoch 69/5000\n",
      "263/264 [============================>.] - ETA: 0s - loss: 0.6931 - accuracy: 0.5000WARNING:tensorflow:Can save best model only with val_acc available, skipping.\n",
      "264/264 [==============================] - 131s 495ms/step - loss: 0.6931 - accuracy: 0.5000 - val_loss: 0.6931 - val_accuracy: 0.5000\n",
      "Epoch 70/5000\n",
      "263/264 [============================>.] - ETA: 0s - loss: 0.6931 - accuracy: 0.5000WARNING:tensorflow:Can save best model only with val_acc available, skipping.\n",
      "264/264 [==============================] - 131s 495ms/step - loss: 0.6931 - accuracy: 0.5000 - val_loss: 0.6931 - val_accuracy: 0.5000\n",
      "Epoch 71/5000\n",
      "263/264 [============================>.] - ETA: 0s - loss: 0.6931 - accuracy: 0.5000WARNING:tensorflow:Can save best model only with val_acc available, skipping.\n",
      "264/264 [==============================] - 130s 494ms/step - loss: 0.6931 - accuracy: 0.5000 - val_loss: 0.6931 - val_accuracy: 0.5000\n",
      "Epoch 72/5000\n",
      "263/264 [============================>.] - ETA: 0s - loss: 0.6931 - accuracy: 0.4990WARNING:tensorflow:Can save best model only with val_acc available, skipping.\n",
      "264/264 [==============================] - 131s 495ms/step - loss: 0.6931 - accuracy: 0.4991 - val_loss: 0.6931 - val_accuracy: 0.5000\n",
      "Epoch 73/5000\n",
      "263/264 [============================>.] - ETA: 0s - loss: 0.6931 - accuracy: 0.5000WARNING:tensorflow:Can save best model only with val_acc available, skipping.\n",
      "264/264 [==============================] - 131s 495ms/step - loss: 0.6931 - accuracy: 0.5000 - val_loss: 0.6931 - val_accuracy: 0.5000\n",
      "Epoch 74/5000\n",
      "263/264 [============================>.] - ETA: 0s - loss: 0.6931 - accuracy: 0.5000WARNING:tensorflow:Can save best model only with val_acc available, skipping.\n",
      "264/264 [==============================] - 131s 495ms/step - loss: 0.6931 - accuracy: 0.5000 - val_loss: 0.6931 - val_accuracy: 0.5000\n",
      "Epoch 75/5000\n",
      "263/264 [============================>.] - ETA: 0s - loss: 0.6931 - accuracy: 0.5000WARNING:tensorflow:Can save best model only with val_acc available, skipping.\n",
      "264/264 [==============================] - 131s 495ms/step - loss: 0.6931 - accuracy: 0.5000 - val_loss: 0.6931 - val_accuracy: 0.5000\n",
      "Epoch 76/5000\n",
      "263/264 [============================>.] - ETA: 0s - loss: 0.6931 - accuracy: 0.5000WARNING:tensorflow:Can save best model only with val_acc available, skipping.\n",
      "264/264 [==============================] - 131s 496ms/step - loss: 0.6931 - accuracy: 0.5000 - val_loss: 0.6931 - val_accuracy: 0.5000\n",
      "Epoch 77/5000\n",
      "263/264 [============================>.] - ETA: 0s - loss: 0.6931 - accuracy: 0.5000WARNING:tensorflow:Can save best model only with val_acc available, skipping.\n",
      "264/264 [==============================] - 131s 497ms/step - loss: 0.6931 - accuracy: 0.5000 - val_loss: 0.6931 - val_accuracy: 0.5000\n",
      "Epoch 78/5000\n",
      "263/264 [============================>.] - ETA: 0s - loss: 0.6931 - accuracy: 0.5000WARNING:tensorflow:Can save best model only with val_acc available, skipping.\n",
      "264/264 [==============================] - 131s 498ms/step - loss: 0.6931 - accuracy: 0.5000 - val_loss: 0.6931 - val_accuracy: 0.5000\n",
      "Epoch 79/5000\n",
      "263/264 [============================>.] - ETA: 0s - loss: 0.6931 - accuracy: 0.5000WARNING:tensorflow:Can save best model only with val_acc available, skipping.\n",
      "264/264 [==============================] - 131s 495ms/step - loss: 0.6931 - accuracy: 0.5000 - val_loss: 0.6931 - val_accuracy: 0.5000\n"
     ]
    },
    {
     "name": "stdout",
     "output_type": "stream",
     "text": [
      "Epoch 80/5000\n",
      "263/264 [============================>.] - ETA: 0s - loss: 0.6931 - accuracy: 0.5000WARNING:tensorflow:Can save best model only with val_acc available, skipping.\n",
      "264/264 [==============================] - 131s 495ms/step - loss: 0.6931 - accuracy: 0.5000 - val_loss: 0.6931 - val_accuracy: 0.5000\n",
      "Epoch 81/5000\n",
      "263/264 [============================>.] - ETA: 0s - loss: 0.6931 - accuracy: 0.5000WARNING:tensorflow:Can save best model only with val_acc available, skipping.\n",
      "264/264 [==============================] - 131s 496ms/step - loss: 0.6931 - accuracy: 0.5000 - val_loss: 0.6931 - val_accuracy: 0.5000\n",
      "Epoch 82/5000\n",
      "263/264 [============================>.] - ETA: 0s - loss: 0.6931 - accuracy: 0.5000WARNING:tensorflow:Can save best model only with val_acc available, skipping.\n",
      "264/264 [==============================] - 131s 495ms/step - loss: 0.6931 - accuracy: 0.5000 - val_loss: 0.6931 - val_accuracy: 0.5000\n",
      "Epoch 83/5000\n",
      "263/264 [============================>.] - ETA: 0s - loss: 0.6931 - accuracy: 0.5000WARNING:tensorflow:Can save best model only with val_acc available, skipping.\n",
      "264/264 [==============================] - 131s 494ms/step - loss: 0.6931 - accuracy: 0.5000 - val_loss: 0.6931 - val_accuracy: 0.5000\n",
      "Epoch 84/5000\n",
      "263/264 [============================>.] - ETA: 0s - loss: 0.6931 - accuracy: 0.5000WARNING:tensorflow:Can save best model only with val_acc available, skipping.\n",
      "264/264 [==============================] - 130s 494ms/step - loss: 0.6931 - accuracy: 0.5000 - val_loss: 0.6931 - val_accuracy: 0.5000\n",
      "Epoch 85/5000\n",
      "263/264 [============================>.] - ETA: 0s - loss: 0.6931 - accuracy: 0.5000WARNING:tensorflow:Can save best model only with val_acc available, skipping.\n",
      "264/264 [==============================] - 131s 495ms/step - loss: 0.6931 - accuracy: 0.5000 - val_loss: 0.6931 - val_accuracy: 0.5000\n",
      "Epoch 86/5000\n",
      "263/264 [============================>.] - ETA: 0s - loss: 0.6931 - accuracy: 0.5000WARNING:tensorflow:Can save best model only with val_acc available, skipping.\n",
      "264/264 [==============================] - 131s 495ms/step - loss: 0.6931 - accuracy: 0.5000 - val_loss: 0.6931 - val_accuracy: 0.5000\n",
      "Epoch 87/5000\n",
      "263/264 [============================>.] - ETA: 0s - loss: 0.6931 - accuracy: 0.5000WARNING:tensorflow:Can save best model only with val_acc available, skipping.\n",
      "264/264 [==============================] - 131s 495ms/step - loss: 0.6931 - accuracy: 0.5000 - val_loss: 0.6931 - val_accuracy: 0.5000\n",
      "Epoch 88/5000\n",
      "263/264 [============================>.] - ETA: 0s - loss: 0.6931 - accuracy: 0.5000WARNING:tensorflow:Can save best model only with val_acc available, skipping.\n",
      "264/264 [==============================] - 131s 495ms/step - loss: 0.6931 - accuracy: 0.5000 - val_loss: 0.6931 - val_accuracy: 0.5000\n",
      "Epoch 89/5000\n",
      "263/264 [============================>.] - ETA: 0s - loss: 0.6931 - accuracy: 0.5000WARNING:tensorflow:Can save best model only with val_acc available, skipping.\n",
      "264/264 [==============================] - 131s 495ms/step - loss: 0.6931 - accuracy: 0.5000 - val_loss: 0.6931 - val_accuracy: 0.5000\n",
      "Epoch 90/5000\n",
      "263/264 [============================>.] - ETA: 0s - loss: 0.6931 - accuracy: 0.5000WARNING:tensorflow:Can save best model only with val_acc available, skipping.\n",
      "264/264 [==============================] - 131s 494ms/step - loss: 0.6931 - accuracy: 0.5000 - val_loss: 0.6931 - val_accuracy: 0.5000\n",
      "Epoch 91/5000\n",
      "263/264 [============================>.] - ETA: 0s - loss: 0.6931 - accuracy: 0.4990WARNING:tensorflow:Can save best model only with val_acc available, skipping.\n",
      "264/264 [==============================] - 131s 494ms/step - loss: 0.6931 - accuracy: 0.4991 - val_loss: 0.6931 - val_accuracy: 0.5000\n",
      "Epoch 92/5000\n",
      "263/264 [============================>.] - ETA: 0s - loss: 0.6931 - accuracy: 0.5000WARNING:tensorflow:Can save best model only with val_acc available, skipping.\n",
      "264/264 [==============================] - 131s 495ms/step - loss: 0.6931 - accuracy: 0.5000 - val_loss: 0.6931 - val_accuracy: 0.5081\n",
      "Epoch 93/5000\n",
      "263/264 [============================>.] - ETA: 0s - loss: 0.6931 - accuracy: 0.5000WARNING:tensorflow:Can save best model only with val_acc available, skipping.\n",
      "264/264 [==============================] - 131s 495ms/step - loss: 0.6931 - accuracy: 0.5000 - val_loss: 0.6931 - val_accuracy: 0.5000\n",
      "Epoch 94/5000\n",
      "263/264 [============================>.] - ETA: 0s - loss: 0.6931 - accuracy: 0.5000WARNING:tensorflow:Can save best model only with val_acc available, skipping.\n",
      "264/264 [==============================] - 131s 494ms/step - loss: 0.6931 - accuracy: 0.5000 - val_loss: 0.6931 - val_accuracy: 0.5000\n",
      "Epoch 95/5000\n",
      "263/264 [============================>.] - ETA: 0s - loss: 0.6931 - accuracy: 0.5000WARNING:tensorflow:Can save best model only with val_acc available, skipping.\n",
      "264/264 [==============================] - 131s 495ms/step - loss: 0.6931 - accuracy: 0.5000 - val_loss: 0.6931 - val_accuracy: 0.5000\n",
      "Epoch 96/5000\n",
      "263/264 [============================>.] - ETA: 0s - loss: 0.6931 - accuracy: 0.5000WARNING:tensorflow:Can save best model only with val_acc available, skipping.\n",
      "264/264 [==============================] - 130s 494ms/step - loss: 0.6931 - accuracy: 0.5000 - val_loss: 0.6931 - val_accuracy: 0.5000\n",
      "Epoch 97/5000\n",
      "263/264 [============================>.] - ETA: 0s - loss: 0.6931 - accuracy: 0.5000WARNING:tensorflow:Can save best model only with val_acc available, skipping.\n",
      "264/264 [==============================] - 131s 495ms/step - loss: 0.6931 - accuracy: 0.5000 - val_loss: 0.6931 - val_accuracy: 0.5000\n",
      "Epoch 98/5000\n",
      "263/264 [============================>.] - ETA: 0s - loss: 0.6931 - accuracy: 0.5000WARNING:tensorflow:Can save best model only with val_acc available, skipping.\n",
      "264/264 [==============================] - 131s 497ms/step - loss: 0.6931 - accuracy: 0.5000 - val_loss: 0.6931 - val_accuracy: 0.5000\n",
      "Epoch 99/5000\n",
      "263/264 [============================>.] - ETA: 0s - loss: 0.6931 - accuracy: 0.5000WARNING:tensorflow:Can save best model only with val_acc available, skipping.\n",
      "264/264 [==============================] - 132s 499ms/step - loss: 0.6931 - accuracy: 0.5000 - val_loss: 0.6931 - val_accuracy: 0.5000\n",
      "Epoch 100/5000\n",
      "263/264 [============================>.] - ETA: 0s - loss: 0.6931 - accuracy: 0.5000WARNING:tensorflow:Can save best model only with val_acc available, skipping.\n",
      "264/264 [==============================] - 131s 495ms/step - loss: 0.6931 - accuracy: 0.5000 - val_loss: 0.6931 - val_accuracy: 0.5000\n",
      "Epoch 101/5000\n",
      "263/264 [============================>.] - ETA: 0s - loss: 0.6931 - accuracy: 0.5000WARNING:tensorflow:Can save best model only with val_acc available, skipping.\n",
      "264/264 [==============================] - 131s 495ms/step - loss: 0.6931 - accuracy: 0.5000 - val_loss: 0.6931 - val_accuracy: 0.5000\n",
      "Epoch 102/5000\n",
      "263/264 [============================>.] - ETA: 0s - loss: 0.6931 - accuracy: 0.4990WARNING:tensorflow:Can save best model only with val_acc available, skipping.\n",
      "264/264 [==============================] - 131s 495ms/step - loss: 0.6931 - accuracy: 0.4991 - val_loss: 0.6931 - val_accuracy: 0.5000\n",
      "Epoch 103/5000\n",
      "263/264 [============================>.] - ETA: 0s - loss: 0.6931 - accuracy: 0.5000WARNING:tensorflow:Can save best model only with val_acc available, skipping.\n",
      "264/264 [==============================] - 131s 496ms/step - loss: 0.6931 - accuracy: 0.5000 - val_loss: 0.6931 - val_accuracy: 0.5000\n",
      "Epoch 104/5000\n",
      "263/264 [============================>.] - ETA: 0s - loss: 0.6931 - accuracy: 0.5000WARNING:tensorflow:Can save best model only with val_acc available, skipping.\n",
      "264/264 [==============================] - 131s 496ms/step - loss: 0.6931 - accuracy: 0.5000 - val_loss: 0.6931 - val_accuracy: 0.5000\n",
      "Epoch 105/5000\n",
      "263/264 [============================>.] - ETA: 0s - loss: 0.6931 - accuracy: 0.5000WARNING:tensorflow:Can save best model only with val_acc available, skipping.\n",
      "264/264 [==============================] - 131s 495ms/step - loss: 0.6931 - accuracy: 0.5000 - val_loss: 0.6931 - val_accuracy: 0.5000\n",
      "Epoch 106/5000\n",
      "263/264 [============================>.] - ETA: 0s - loss: 0.6931 - accuracy: 0.5000WARNING:tensorflow:Can save best model only with val_acc available, skipping.\n",
      "264/264 [==============================] - 131s 495ms/step - loss: 0.6931 - accuracy: 0.5000 - val_loss: 0.6931 - val_accuracy: 0.5000\n",
      "Epoch 107/5000\n",
      "263/264 [============================>.] - ETA: 0s - loss: 0.6931 - accuracy: 0.4990WARNING:tensorflow:Can save best model only with val_acc available, skipping.\n",
      "264/264 [==============================] - 131s 496ms/step - loss: 0.6931 - accuracy: 0.4991 - val_loss: 0.6931 - val_accuracy: 0.5000\n",
      "Epoch 108/5000\n",
      "263/264 [============================>.] - ETA: 0s - loss: 0.6931 - accuracy: 0.4981WARNING:tensorflow:Can save best model only with val_acc available, skipping.\n",
      "264/264 [==============================] - 131s 495ms/step - loss: 0.6931 - accuracy: 0.4981 - val_loss: 0.6931 - val_accuracy: 0.5000\n",
      "Epoch 109/5000\n",
      "263/264 [============================>.] - ETA: 0s - loss: 0.6931 - accuracy: 0.5000WARNING:tensorflow:Can save best model only with val_acc available, skipping.\n",
      "264/264 [==============================] - 131s 495ms/step - loss: 0.6931 - accuracy: 0.5000 - val_loss: 0.6931 - val_accuracy: 0.5000\n",
      "Epoch 110/5000\n",
      "263/264 [============================>.] - ETA: 0s - loss: 0.6931 - accuracy: 0.5000WARNING:tensorflow:Can save best model only with val_acc available, skipping.\n",
      "264/264 [==============================] - 131s 495ms/step - loss: 0.6931 - accuracy: 0.5000 - val_loss: 0.6931 - val_accuracy: 0.5000\n",
      "Epoch 111/5000\n",
      "263/264 [============================>.] - ETA: 0s - loss: 0.6931 - accuracy: 0.5000WARNING:tensorflow:Can save best model only with val_acc available, skipping.\n",
      "264/264 [==============================] - 131s 495ms/step - loss: 0.6931 - accuracy: 0.5000 - val_loss: 0.6931 - val_accuracy: 0.5000\n",
      "Epoch 112/5000\n",
      "263/264 [============================>.] - ETA: 0s - loss: 0.6931 - accuracy: 0.5000WARNING:tensorflow:Can save best model only with val_acc available, skipping.\n",
      "264/264 [==============================] - 131s 495ms/step - loss: 0.6931 - accuracy: 0.5000 - val_loss: 0.6931 - val_accuracy: 0.5000\n",
      "Epoch 113/5000\n",
      "263/264 [============================>.] - ETA: 0s - loss: 0.6931 - accuracy: 0.5000WARNING:tensorflow:Can save best model only with val_acc available, skipping.\n",
      "264/264 [==============================] - 131s 494ms/step - loss: 0.6931 - accuracy: 0.5000 - val_loss: 0.6931 - val_accuracy: 0.5000\n",
      "Epoch 114/5000\n",
      "263/264 [============================>.] - ETA: 0s - loss: 0.6931 - accuracy: 0.5000WARNING:tensorflow:Can save best model only with val_acc available, skipping.\n",
      "264/264 [==============================] - 130s 494ms/step - loss: 0.6931 - accuracy: 0.5000 - val_loss: 0.6931 - val_accuracy: 0.5000\n",
      "Epoch 115/5000\n",
      "263/264 [============================>.] - ETA: 0s - loss: 0.6931 - accuracy: 0.5000WARNING:tensorflow:Can save best model only with val_acc available, skipping.\n",
      "264/264 [==============================] - 130s 493ms/step - loss: 0.6931 - accuracy: 0.5000 - val_loss: 0.6931 - val_accuracy: 0.5000\n",
      "Epoch 116/5000\n",
      "263/264 [============================>.] - ETA: 0s - loss: 0.6931 - accuracy: 0.5000WARNING:tensorflow:Can save best model only with val_acc available, skipping.\n",
      "264/264 [==============================] - 130s 493ms/step - loss: 0.6931 - accuracy: 0.5000 - val_loss: 0.6931 - val_accuracy: 0.5000\n",
      "Epoch 117/5000\n",
      "263/264 [============================>.] - ETA: 0s - loss: 0.6931 - accuracy: 0.4990WARNING:tensorflow:Can save best model only with val_acc available, skipping.\n",
      "264/264 [==============================] - 130s 494ms/step - loss: 0.6931 - accuracy: 0.4991 - val_loss: 0.6931 - val_accuracy: 0.5000\n",
      "Epoch 118/5000\n"
     ]
    }
   ],
   "source": [
    "IMG_SHAPE = (1200,1200, 3)\n",
    "# Create the base model from the model \n",
    "base_model = keras.applications.ResNet50(input_shape=IMG_SHAPE,\n",
    "                                               include_top=False,\n",
    "                                               weights='imagenet'\n",
    "                                           )\n",
    "\n",
    "base_model.trainable = True\n",
    "\n",
    "\n",
    "x = base_model.output\n",
    "x = keras.layers.GlobalAveragePooling2D()(x)\n",
    "predictions = keras.layers.Dense(2, activation='softmax')(x)\n",
    "model = keras.Model(inputs=base_model.inputs, outputs=predictions)\n",
    "\n",
    "model.compile(optimizer=tf.keras.optimizers.Adam(lr=0.002),\n",
    "              loss='binary_crossentropy',\n",
    "              metrics=['accuracy'])\n",
    "\n",
    "model_checkpoint = keras.callbacks.ModelCheckpoint('DeepBSI-restnet-gen02.hdf5', \n",
    "                                                   monitor='val_acc', \n",
    "                                                   verbose=1, \n",
    "                                                   save_best_only=True, \n",
    "                                                   mode=\"max\")\n",
    "\n",
    "epochs = 5000\n",
    "train_num = len(PATH)\n",
    "val_num = len(val_PATH)\n",
    "steps_per_epoch = train_num // batch_size\n",
    "validation_steps = val_num// batch_size\n",
    "\n",
    "history = model.fit(train_set,\n",
    "                    steps_per_epoch = steps_per_epoch,\n",
    "                    epochs=epochs,\n",
    "#                     workers=4,\n",
    "                    validation_data= val_set,\n",
    "                    validation_steps=validation_steps,\n",
    "                    callbacks = [model_checkpoint])\n",
    "\n"
   ]
  },
  {
   "cell_type": "code",
   "execution_count": null,
   "metadata": {},
   "outputs": [],
   "source": []
  },
  {
   "cell_type": "code",
   "execution_count": null,
   "metadata": {},
   "outputs": [],
   "source": []
  }
 ],
 "metadata": {
  "kernelspec": {
   "display_name": "Python [conda env:TF2.0]",
   "language": "python",
   "name": "conda-env-TF2.0-py"
  },
  "language_info": {
   "codemirror_mode": {
    "name": "ipython",
    "version": 3
   },
   "file_extension": ".py",
   "mimetype": "text/x-python",
   "name": "python",
   "nbconvert_exporter": "python",
   "pygments_lexer": "ipython3",
   "version": "3.7.0"
  }
 },
 "nbformat": 4,
 "nbformat_minor": 2
}
