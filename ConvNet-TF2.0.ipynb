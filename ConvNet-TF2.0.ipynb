{
 "cells": [
  {
   "cell_type": "code",
   "execution_count": 5,
   "metadata": {},
   "outputs": [],
   "source": [
    "import SimpleITK as sitk\n",
    "import numpy as np\n",
    "import pandas as pd\n",
    "import skimage\n",
    "from skimage import transform\n",
    "import matplotlib as mpl\n",
    "import matplotlib.pyplot as plt\n",
    "import os,glob\n",
    "\n",
    "import random"
   ]
  },
  {
   "cell_type": "code",
   "execution_count": 6,
   "metadata": {},
   "outputs": [],
   "source": [
    "import tensorflow as tf\n",
    "from tensorflow import keras\n",
    "from tensorflow.keras import layers"
   ]
  },
  {
   "cell_type": "code",
   "execution_count": 7,
   "metadata": {},
   "outputs": [],
   "source": [
    "class COVNet(keras.Model):\n",
    "    def __init__(self, n_classes):\n",
    "        super(COVNet,self).__init__()\n",
    "        self.basemodel = keras.applications.ResNet50V2(input_shape=(256,256,3), \n",
    "                                                  include_top=False,\n",
    "                                                  weights='imagenet')\n",
    "        self.pooling_layer = layers.GlobalAveragePooling2D()\n",
    "        self.classifer = layers.Dense(n_classes)\n",
    "        self.n_classes = n_classes\n",
    "        \n",
    "    def call(self, x ,training = True):#  ( b,slices,x,y,c)\n",
    "        x = tf.squeeze(x,axis = 0) #(slices,x,y,c)\n",
    "        features = self.basemodel(x,training) #( slices,x,y,2048)\n",
    "        pooled_features = self.pooling_layer(features) # (slices,2048*x*y)\n",
    "        flattened_features = tf.reduce_max(pooled_features,axis = 0, keepdims=True) #(1,2048*x*y) max_pooling\n",
    "        logit = self.classifer(flattened_features)\n",
    "        return logit"
   ]
  },
  {
   "cell_type": "code",
   "execution_count": 4,
   "metadata": {
    "scrolled": true
   },
   "outputs": [],
   "source": [
    "# net = COVNet(2)\n",
    "# x = tf.random.normal([1,30,256,256,3])\n",
    "# y = tf.convert_to_tensor([1.],tf.float32)\n",
    "# loss = tf.keras.losses.CategoricalCrossentropy()\n",
    "# optim = keras.optimizers.Adam()\n",
    "# with tf.GradientTape() as tape:\n",
    "#     logit = net(x)\n",
    "#     losses = loss(y,logit)\n",
    "# grads = tape.gradient(losses,net.trainable_variables)\n",
    "# optim.apply_gradients(zip(grads,net.trainable_variables))"
   ]
  },
  {
   "cell_type": "code",
   "execution_count": 8,
   "metadata": {},
   "outputs": [],
   "source": [
    "dir_0 = glob.glob('E:\\set\\\\0\\*')[:100]\n",
    "dir_1 = glob.glob('E:\\set\\\\1\\*')\n",
    "filedirs = dir_0+dir_1"
   ]
  },
  {
   "cell_type": "code",
   "execution_count": 9,
   "metadata": {},
   "outputs": [
    {
     "data": {
      "text/plain": [
       "'0'"
      ]
     },
     "execution_count": 9,
     "metadata": {},
     "output_type": "execute_result"
    }
   ],
   "source": [
    "filedirs[0].split('\\\\')[-2]"
   ]
  },
  {
   "cell_type": "code",
   "execution_count": 11,
   "metadata": {},
   "outputs": [
    {
     "data": {
      "text/plain": [
       "'1'"
      ]
     },
     "execution_count": 11,
     "metadata": {},
     "output_type": "execute_result"
    }
   ],
   "source": [
    "filedirs[-1].split('\\\\')[-2]"
   ]
  },
  {
   "cell_type": "code",
   "execution_count": null,
   "metadata": {},
   "outputs": [
    {
     "name": "stdout",
     "output_type": "stream",
     "text": [
      "\n",
      "Computing (epoch=1/100) ......\n",
      "epoch 1  loss: 7.422182208076518  acc: 0.47058823529411764\n",
      "\n",
      "Computing (epoch=2/100) ......\n",
      "epoch 2  loss: 7.4987930461047165  acc: 0.46524064171123\n",
      "\n",
      "Computing (epoch=3/100) ......\n",
      "epoch 3  loss: 7.4987930461047165  acc: 0.46524064171123\n",
      "\n",
      "Computing (epoch=4/100) ......\n",
      "epoch 4  loss: 7.4987930461047165  acc: 0.46524064171123\n",
      "\n",
      "Computing (epoch=5/100) ......\n",
      "epoch 5  loss: 7.4987930461047165  acc: 0.46524064171123\n",
      "\n",
      "Computing (epoch=6/100) ......\n",
      "epoch 6  loss: 7.4987930461047165  acc: 0.46524064171123\n",
      "\n",
      "Computing (epoch=7/100) ...."
     ]
    }
   ],
   "source": [
    "# filedirs = glob.glob('E:\\data\\CT\\平扫肺窗\\*\\*')\n",
    "# datainfo = pd.read_csv('E:\\\\data\\\\影像+临床资料-修订.csv',encoding='gb18030')\n",
    "# heav_patient = list(datainfo.iloc[:,[2,5]].dropna().iloc[:,0].values)\n",
    "\n",
    "\n",
    "#保存的文件路径是没有顺序的，需要用读取器读取，就可以按顺序\n",
    "def get_series_and_processing(img_path):\n",
    "    reader = sitk.ImageSeriesReader()\n",
    "    img_names = reader.GetGDCMSeriesFileNames(img_path)\n",
    "    reader.SetFileNames(img_names)\n",
    "    image3D = reader.Execute()\n",
    "    \n",
    "    dcm = sitk.IntensityWindowing(image3D,    windowMinimum=-1000,    windowMaximum=0)\n",
    "    arr = sitk.GetArrayFromImage(dcm)\n",
    "    \n",
    "    arr = arr[::-1]\n",
    "    arr = arr[6:30]\n",
    "    arr = np.transpose(transform.resize(np.transpose(arr,[1,2,0]),(256,256)),[2,0,1] )# x, y, z\n",
    "    arr = np.expand_dims(arr,axis=0)\n",
    "    \n",
    "    return arr\n",
    "\n",
    "net = COVNet(2)\n",
    "criteon = tf.keras.losses.CategoricalCrossentropy()\n",
    "optim = keras.optimizers.Adam(learning_rate=0.01)\n",
    "\n",
    "epochs = 100\n",
    "\n",
    "for epoch in range(epochs):\n",
    "    \n",
    "    losses = 0\n",
    "    \n",
    "    acc_count = 0\n",
    "    \n",
    "    i = 0\n",
    "    \n",
    "    print()\n",
    "    print('Computing (epoch={0}/{1})'.format(epoch+1,epochs),end=' ')\n",
    "    \n",
    "    random.shuffle(filedirs)\n",
    "    \n",
    "    for filename in filedirs:\n",
    "        os.chdir(filename)\n",
    "        x = tf.cast(tf.stack([tf.convert_to_tensor(get_series_and_processing('.'))]*3,axis=-1),tf.float32)\n",
    "#         y = tf.cast(tf.convert_to_tensor(np.array([int(filename.split('\\\\')[-2] in heav_patient)])),tf.float32)\n",
    "        y = tf.cast(tf.convert_to_tensor(np.array([int(filename.split('\\\\')[-2])])),tf.float32)\n",
    "        with tf.GradientTape() as tape:\n",
    "            logit = net(x)\n",
    "            loss = criteon(y,logit)\n",
    "            \n",
    "        pred = tf.cast(tf.argmax(tf.math.softmax(logit),axis=1),tf.float32)\n",
    "        losses += loss.numpy()\n",
    "        acc_count += int(tf.equal(pred,y).numpy())\n",
    "        grad = tape.gradient(loss,net.trainable_variables)\n",
    "        optim.apply_gradients(zip(grad,net.trainable_variables))\n",
    "        \n",
    "        i+=1\n",
    "        if i%30 == 0:\n",
    "            print('.',end='')\n",
    "    print()\n",
    "\n",
    "    avg_loss = float(losses/len(filedirs))\n",
    "    acc = float(acc_count/len(filedirs))\n",
    "    print('epoch',epoch+1,' loss:',avg_loss,' acc:',acc)\n",
    "    "
   ]
  },
  {
   "cell_type": "code",
   "execution_count": null,
   "metadata": {},
   "outputs": [
    {
     "name": "stdout",
     "output_type": "stream",
     "text": [
      "\n",
      "Computing (epoch=1/100) ......\n",
      "epoch 1  loss: 7.421410668979991  acc: 0.5240641711229946\n",
      "\n",
      "Computing (epoch=2/100) ......\n",
      "epoch 2  loss: 7.4987930461047165  acc: 0.5347593582887701\n",
      "\n",
      "Computing (epoch=3/100) ......\n",
      "epoch 3  loss: 7.4987930461047165  acc: 0.5347593582887701\n",
      "\n",
      "Computing (epoch=4/100) ......\n",
      "epoch 4  loss: 7.4987930461047165  acc: 0.5347593582887701\n",
      "\n",
      "Computing (epoch=5/100) ......\n",
      "epoch 5  loss: 7.4987930461047165  acc: 0.5347593582887701\n",
      "\n",
      "Computing (epoch=6/100) ......\n",
      "epoch 6  loss: 7.4987930461047165  acc: 0.5347593582887701\n",
      "\n",
      "Computing (epoch=7/100) ......\n",
      "epoch 7  loss: 7.4987930461047165  acc: 0.5347593582887701\n",
      "\n",
      "Computing (epoch=8/100) "
     ]
    }
   ],
   "source": [
    "# filedirs = glob.glob('E:\\data\\CT\\平扫肺窗\\*\\*')\n",
    "# datainfo = pd.read_csv('E:\\\\data\\\\影像+临床资料-修订.csv',encoding='gb18030')\n",
    "# heav_patient = list(datainfo.iloc[:,[2,5]].dropna().iloc[:,0].values)\n",
    "\n",
    "\n",
    "#保存的文件路径是没有顺序的，需要用读取器读取，就可以按顺序\n",
    "def get_series_and_processing(img_path):\n",
    "    reader = sitk.ImageSeriesReader()\n",
    "    img_names = reader.GetGDCMSeriesFileNames(img_path)\n",
    "    reader.SetFileNames(img_names)\n",
    "    image3D = reader.Execute()\n",
    "    \n",
    "    dcm = sitk.IntensityWindowing(image3D,    windowMinimum=-1000,    windowMaximum=0)\n",
    "    arr = sitk.GetArrayFromImage(dcm)\n",
    "    \n",
    "    arr = arr[::-1]\n",
    "    arr = arr[6:30]\n",
    "    arr = np.transpose(transform.resize(np.transpose(arr,[1,2,0]),(256,256)),[2,0,1] )# x, y, z\n",
    "    arr = np.expand_dims(arr,axis=0)\n",
    "    \n",
    "    return arr\n",
    "\n",
    "net = COVNet(2)\n",
    "criteon = tf.keras.losses.CategoricalCrossentropy()\n",
    "optim = keras.optimizers.Adam(learning_rate=0.001)\n",
    "\n",
    "epochs = 100\n",
    "\n",
    "for epoch in range(epochs):\n",
    "    \n",
    "    losses = 0\n",
    "    \n",
    "    acc_count = 0\n",
    "    \n",
    "    i = 0\n",
    "    \n",
    "    print()\n",
    "    print('Computing (epoch={0}/{1})'.format(epoch+1,epochs),end=' ')\n",
    "    \n",
    "    random.shuffle(filedirs)\n",
    "    \n",
    "    for filename in filedirs:\n",
    "        os.chdir(filename)\n",
    "        x = tf.cast(tf.stack([tf.convert_to_tensor(get_series_and_processing('.'))]*3,axis=-1),tf.float32)\n",
    "#         y = tf.cast(tf.convert_to_tensor(np.array([int(filename.split('\\\\')[-2] in heav_patient)])),tf.float32)\n",
    "        y = tf.cast(tf.convert_to_tensor(np.array([int(filename.split('\\\\')[-2])])),tf.float32)\n",
    "        with tf.GradientTape() as tape:\n",
    "            logit = net(x)\n",
    "            loss = criteon(y,logit)\n",
    "            \n",
    "        pred = tf.cast(tf.argmax(tf.math.softmax(logit),axis=1),tf.float32)\n",
    "        losses += loss.numpy()\n",
    "        acc_count += int(tf.equal(pred,y).numpy())\n",
    "        grad = tape.gradient(loss,net.trainable_variables)\n",
    "        optim.apply_gradients(zip(grad,net.trainable_variables))\n",
    "        \n",
    "        i+=1\n",
    "        if i%30 == 0:\n",
    "            print('.',end='')\n",
    "    print()\n",
    "\n",
    "    avg_loss = float(losses/len(filedirs))\n",
    "    acc = float(acc_count/len(filedirs))\n",
    "    print('epoch',epoch+1,' loss:',avg_loss,' acc:',acc)\n",
    "    "
   ]
  }
 ],
 "metadata": {
  "kernelspec": {
   "display_name": "Python [conda env:TF2.0]",
   "language": "python",
   "name": "conda-env-TF2.0-py"
  },
  "language_info": {
   "codemirror_mode": {
    "name": "ipython",
    "version": 3
   },
   "file_extension": ".py",
   "mimetype": "text/x-python",
   "name": "python",
   "nbconvert_exporter": "python",
   "pygments_lexer": "ipython3",
   "version": "3.7.0"
  }
 },
 "nbformat": 4,
 "nbformat_minor": 2
}
